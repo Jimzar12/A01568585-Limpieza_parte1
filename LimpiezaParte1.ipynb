{
  "cells": [
    {
      "cell_type": "markdown",
      "id": "2057db7a",
      "metadata": {},
      "source": [
        "### Realicemos un ejercicio, paso a paso"
      ]
    },
    {
      "cell_type": "code",
      "execution_count": null,
      "id": "fe18de65",
      "metadata": {
        "id": "fe18de65"
      },
      "outputs": [],
      "source": []
    }
  ],
  "metadata": {
    "colab": {
      "provenance": []
    },
    "kernelspec": {
      "display_name": "Python 3",
      "language": "python",
      "name": "python3"
    },
    "language_info": {
      "codemirror_mode": {
        "name": "ipython",
        "version": 3
      },
      "file_extension": ".py",
      "mimetype": "text/x-python",
      "name": "python",
      "nbconvert_exporter": "python",
      "pygments_lexer": "ipython3",
      "version": "3.12.1"
    }
  },
  "nbformat": 4,
  "nbformat_minor": 5
}
