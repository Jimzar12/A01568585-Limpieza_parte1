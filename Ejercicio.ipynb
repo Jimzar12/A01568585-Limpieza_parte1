{
  "cells": [
    {
      "cell_type": "markdown",
      "id": "2057db7a",
      "metadata": {},
      "source": [
        "## Ejercicio\n",
        "Considerando el archivo 'data/Alarm Survey Data.xlsx', limpie los datos para que sean adecuados para análisis\n",
        "\n",
        "Pasos:\n",
        "1. Leer los datos\n",
        "2. Meterlos en dataframe\n",
        "3. Revisar los tipos de datos\n",
        "4. Convertir las columnas que sean necesarias"
      ]
    },
    {
      "cell_type": "code",
      "execution_count": null,
      "id": "fe18de65",
      "metadata": {
        "id": "fe18de65"
      },
      "outputs": [],
      "source": []
    }
  ],
  "metadata": {
    "colab": {
      "provenance": []
    },
    "kernelspec": {
      "display_name": "Python 3",
      "language": "python",
      "name": "python3"
    },
    "language_info": {
      "codemirror_mode": {
        "name": "ipython",
        "version": 3
      },
      "file_extension": ".py",
      "mimetype": "text/x-python",
      "name": "python",
      "nbconvert_exporter": "python",
      "pygments_lexer": "ipython3",
      "version": "3.12.1"
    }
  },
  "nbformat": 4,
  "nbformat_minor": 5
}
